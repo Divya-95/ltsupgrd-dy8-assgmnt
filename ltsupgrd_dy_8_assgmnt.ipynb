{
  "nbformat": 4,
  "nbformat_minor": 0,
  "metadata": {
    "colab": {
      "name": "ltsupgrd dy 8 assgmnt",
      "provenance": [],
      "collapsed_sections": [],
      "authorship_tag": "ABX9TyPXIdjcm+Yyqo/iC9GRiZHV",
      "include_colab_link": true
    },
    "kernelspec": {
      "name": "python3",
      "display_name": "Python 3"
    }
  },
  "cells": [
    {
      "cell_type": "markdown",
      "metadata": {
        "id": "view-in-github",
        "colab_type": "text"
      },
      "source": [
        "<a href=\"https://colab.research.google.com/github/Divya-95/ltsupgrd-dy8-assgmnt/blob/master/ltsupgrd_dy_8_assgmnt.ipynb\" target=\"_parent\"><img src=\"https://colab.research.google.com/assets/colab-badge.svg\" alt=\"Open In Colab\"/></a>"
      ]
    },
    {
      "cell_type": "code",
      "metadata": {
        "id": "z2C2DUW7FDMr",
        "colab_type": "code",
        "colab": {}
      },
      "source": [
        " # Decorator\n",
        " \n",
        "def getInput(calculate_arg_fun):\n",
        "    \n",
        "    def wrap_function():\n",
        "    \n",
        "        a = int(input(\"\\nEnter First Number - \"))\n",
        "        \n",
        "        b = int(input(\"\\nEnter Second Number - \"))\n",
        "        \n",
        "        calculate_arg_fun(a,b)   \n",
        "    \n",
        "    return wrap_function\n",
        "# calling decorator for input\n",
        " \n",
        "@getInput\n",
        " \n",
        "def EvenFinder(start, last):\n",
        "    \n",
        "    print(\"\\nThe Even numbers in the range\",start,\"to\",last,\"is :\\n\")\n",
        " \n",
        "    for n in range(start, last + 1): \n",
        "      \n",
        "        if n % 2 == 0: \n",
        "            \n",
        "            print(n, end = \" \")"
      ],
      "execution_count": 7,
      "outputs": []
    },
    {
      "cell_type": "code",
      "metadata": {
        "id": "5cQyxP-kFviO",
        "colab_type": "code",
        "colab": {
          "base_uri": "https://localhost:8080/",
          "height": 176
        },
        "outputId": "23dae50a-87f5-46e1-c89a-fb2012be7ca1"
      },
      "source": [
        "EvenFinder()"
      ],
      "execution_count": 8,
      "outputs": [
        {
          "output_type": "stream",
          "text": [
            "\n",
            "Enter First Number - 1\n",
            "\n",
            "Enter Second Number - 50\n",
            "\n",
            "The Even numbers in the range 1 to 50 is :\n",
            "\n",
            "2 4 6 8 10 12 14 16 18 20 22 24 26 28 30 32 34 36 38 40 42 44 46 48 50 "
          ],
          "name": "stdout"
        }
      ]
    },
    {
      "cell_type": "code",
      "metadata": {
        "id": "nkNtMnJgH-rY",
        "colab_type": "code",
        "colab": {
          "base_uri": "https://localhost:8080/",
          "height": 35
        },
        "outputId": "01364dab-3976-4eca-86f8-48686e592392"
      },
      "source": [
        " %%writefile test.txt\n",
        " \n",
        "Hi this is AJAY\n",
        "i love letsupgrade"
      ],
      "execution_count": 9,
      "outputs": [
        {
          "output_type": "stream",
          "text": [
            "Writing test.txt\n"
          ],
          "name": "stdout"
        }
      ]
    },
    {
      "cell_type": "code",
      "metadata": {
        "id": "cXBrlA38IM0h",
        "colab_type": "code",
        "colab": {
          "base_uri": "https://localhost:8080/",
          "height": 87
        },
        "outputId": "ce1638a7-b9df-4471-f630-1d6f23703d87"
      },
      "source": [
        " # opening file in read mode and tring to write \n",
        " \n",
        "try:\n",
        "    \n",
        "    file = open(\"test.txt\",\"r\")\n",
        "    \n",
        "    file.write(\"\\nI am from chennai.\")\n",
        "    \n",
        "    print(\"\\nWrite operation has done successfully in read only mode.\")\n",
        "    \n",
        "except Exception as e:\n",
        "    \n",
        "    print(\"\\nError has been occured\")\n",
        "    \n",
        "    print(\"\\nError message is :\",e)"
      ],
      "execution_count": 10,
      "outputs": [
        {
          "output_type": "stream",
          "text": [
            "\n",
            "Error has been occured\n",
            "\n",
            "Error message is : not writable\n"
          ],
          "name": "stdout"
        }
      ]
    }
  ]
}